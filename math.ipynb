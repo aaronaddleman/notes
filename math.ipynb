{
 "metadata": {
  "language_info": {
   "codemirror_mode": {
    "name": "ipython",
    "version": 3
   },
   "file_extension": ".py",
   "mimetype": "text/x-python",
   "name": "python",
   "nbconvert_exporter": "python",
   "pygments_lexer": "ipython3",
   "version": "3.7.6-final"
  },
  "orig_nbformat": 2,
  "kernelspec": {
   "name": "Python 3.7.6 64-bit ('3.7.6')",
   "display_name": "Python 3.7.6 64-bit ('3.7.6')",
   "metadata": {
    "interpreter": {
     "hash": "cdc028894325066730bc320335f22d4e02c1d5828593c892522903a7d653b7b0"
    }
   }
  }
 },
 "nbformat": 4,
 "nbformat_minor": 2,
 "cells": [
  {
   "cell_type": "code",
   "execution_count": 1,
   "metadata": {
    "tags": []
   },
   "outputs": [
    {
     "output_type": "stream",
     "name": "stdout",
     "text": "hi everyone\n"
    }
   ],
   "source": [
    "print(\"hi everyone\")"
   ]
  },
  {
   "source": [
    "# this is markdown\n",
    "\n",
    "## this is math\n",
    "\n",
    "\\begin{equation*}\n",
    "\\left( \\sum_{k=1}^n a_k b_k \\right)^2 \\leq \\left( \\sum_{k=1}^n a_k^2 \\right) \\left( \\sum_{k=1}^n b_k^2 \\right)\n",
    "\\end{equation*}"
   ],
   "cell_type": "markdown",
   "metadata": {}
  }
 ]
}