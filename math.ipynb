{
 "metadata": {
  "language_info": {
   "codemirror_mode": {
    "name": "ipython",
    "version": 3
   },
   "file_extension": ".py",
   "mimetype": "text/x-python",
   "name": "python",
   "nbconvert_exporter": "python",
   "pygments_lexer": "ipython3",
   "version": "3.7.6-final"
  },
  "orig_nbformat": 2,
  "kernelspec": {
   "name": "Python 3.7.6 64-bit ('3.7.6')",
   "display_name": "Python 3.7.6 64-bit ('3.7.6')",
   "metadata": {
    "interpreter": {
     "hash": "cdc028894325066730bc320335f22d4e02c1d5828593c892522903a7d653b7b0"
    }
   }
  }
 },
 "nbformat": 4,
 "nbformat_minor": 2,
 "cells": [
  {
   "source": [
    "# Math expressions"
   ],
   "cell_type": "markdown",
   "metadata": {}
  },
  {
   "source": [
    "## Sequences"
   ],
   "cell_type": "markdown",
   "metadata": {}
  },
  {
   "source": [
    "### Mersenne Sequence\n",
    "\n",
    "A prime number that is one less than the power of two.\n",
    "\n",
    "\\begin{equation*}\n",
    "\\Large\n",
    "M_p = 2^p - 1\n",
    "\\end{equation*}"
   ],
   "cell_type": "markdown",
   "metadata": {}
  }
 ]
}